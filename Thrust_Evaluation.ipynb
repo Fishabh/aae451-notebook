{
 "cells": [
  {
   "cell_type": "code",
   "execution_count": 2,
   "metadata": {},
   "outputs": [],
   "source": [
    "import casadi as ca\n",
    "import numpy as np\n",
    "import pandas as pd\n",
    "import matplotlib.pyplot as plt\n",
    "plt.rcParams['figure.figsize'] = (15, 7)  # makes figures larger by default"
   ]
  },
  {
   "cell_type": "markdown",
   "metadata": {},
   "source": [
    "# Aircraft Values"
   ]
  },
  {
   "cell_type": "code",
   "execution_count": 11,
   "metadata": {},
   "outputs": [],
   "source": [
    "m = .3 # mass in kilograms\n",
    "rho = 1.225 # air denisty at sea level in kg/m^3\n",
    "g = 9.8 # gravity in m/s^2\n",
    "AR = .9/.3\n",
    "e = .9\n",
    "k = 1/(np.pi*AR*e)\n",
    "Cd0 = 0.08 # parasite drag coefficient\n",
    "v_turn = 4.5  # velocity for turns\n",
    "v_max = 6 # velocity for straightaways\n",
    "CL_cruise = .549\n",
    "CL_turn = 1.241\n",
    "W = m*9.8 # weight in Newtons\n",
    "v_thrust = v_max + 1 #safety margin velocity for sizing thrust\n",
    "S = .27\n",
    "LF = 1/np.cos(45*np.pi/180) "
   ]
  },
  {
   "cell_type": "markdown",
   "metadata": {},
   "source": [
    "# Cruise Thrust Calculation w/ Safety Factor"
   ]
  },
  {
   "cell_type": "code",
   "execution_count": 12,
   "metadata": {},
   "outputs": [
    {
     "data": {
      "text/plain": [
       "2.4787429029694286"
      ]
     },
     "execution_count": 12,
     "metadata": {},
     "output_type": "execute_result"
    }
   ],
   "source": [
    "L = CL_cruise * 0.5 * rho * (v_thrust**2) *S #Lift\n",
    "D = .5 * rho * v_thrust**2 * Cd0 + L**2 / (.5 * rho * v_thrust**2 * np.pi * AR * e) #Drag\n",
    "T_min = D #Thrust is equal to drag\n",
    "T_min"
   ]
  },
  {
   "cell_type": "markdown",
   "metadata": {},
   "source": [
    "# Cruise Thrust Calculation"
   ]
  },
  {
   "cell_type": "code",
   "execution_count": 21,
   "metadata": {},
   "outputs": [
    {
     "data": {
      "text/plain": [
       "1.821117234834682"
      ]
     },
     "execution_count": 21,
     "metadata": {},
     "output_type": "execute_result"
    }
   ],
   "source": [
    "L = CL_cruise * 0.5 * rho * (v_max**2) *S #Lift\n",
    "D = .5 * rho * v_max**2 * Cd0 + L**2 / (.5 * rho * v_max**2 * np.pi * AR * e) #Drag\n",
    "T_min = D #Thrust is equal to drag\n",
    "T_min"
   ]
  },
  {
   "cell_type": "markdown",
   "metadata": {},
   "source": [
    "# Turn Thrust Calculation"
   ]
  },
  {
   "cell_type": "code",
   "execution_count": 16,
   "metadata": {},
   "outputs": [
    {
     "data": {
      "text/plain": [
       "1.3205860511713992"
      ]
     },
     "execution_count": 16,
     "metadata": {},
     "output_type": "execute_result"
    }
   ],
   "source": [
    "L = CL_turn * 0.5 * rho * (v_turn**2) *S * LF #Lift\n",
    "D = .5 * rho * v_turn**2 * Cd0 + L**2 / (.5 * rho * v_turn**2 * np.pi * AR * e) #Drag\n",
    "T_min = D #Thrust is equal to drag\n",
    "T_min"
   ]
  }
 ],
 "metadata": {
  "kernelspec": {
   "display_name": "Python 3",
   "language": "python",
   "name": "python3"
  },
  "language_info": {
   "codemirror_mode": {
    "name": "ipython",
    "version": 3
   },
   "file_extension": ".py",
   "mimetype": "text/x-python",
   "name": "python",
   "nbconvert_exporter": "python",
   "pygments_lexer": "ipython3",
   "version": "3.7.6"
  }
 },
 "nbformat": 4,
 "nbformat_minor": 4
}
