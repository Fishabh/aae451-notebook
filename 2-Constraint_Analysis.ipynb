{
 "cells": [
  {
   "cell_type": "code",
   "execution_count": 154,
   "metadata": {},
   "outputs": [],
   "source": [
    "import casadi as ca\n",
    "import numpy as np\n",
    "import pandas as pd\n",
    "import matplotlib.pyplot as plt\n",
    "plt.rcParams['figure.figsize'] = (15, 7)  # makes figures larger by default"
   ]
  },
  {
   "cell_type": "markdown",
   "metadata": {},
   "source": [
    "# Constraint Analysis with Casadi\n",
    "\n",
    "* Why use Casadi?\n",
    "    * Automatic differentiation (computes gradients for you)\n",
    "    * Overkill for this application, but can be used in later stages of your design cycle when optimizations get more complex"
   ]
  },
  {
   "cell_type": "markdown",
   "metadata": {},
   "source": [
    "# Client requirements"
   ]
  },
  {
   "cell_type": "code",
   "execution_count": 155,
   "metadata": {},
   "outputs": [],
   "source": [
    "m = .3 # mass in kilograms\n",
    "t = 300 # time in seconds\n",
    "r = 2 # turning radius in meters\n",
    "dist = 10 # straightway distance in meters"
   ]
  },
  {
   "cell_type": "markdown",
   "metadata": {},
   "source": [
    "# Constants"
   ]
  },
  {
   "cell_type": "code",
   "execution_count": 156,
   "metadata": {},
   "outputs": [],
   "source": [
    "    rho = 1.225 # air denisty at sea level in kg/m^3\n",
    "    g = 9.8 # gravity in m/s^2\n",
    "    mu = 0.5  # rolling friction coefficient for dry concrete"
   ]
  },
  {
   "cell_type": "markdown",
   "metadata": {},
   "source": [
    "# Changeable Inputs"
   ]
  },
  {
   "cell_type": "code",
   "execution_count": 181,
   "metadata": {},
   "outputs": [],
   "source": [
    "    Cd0 = 0.06 # parasite drag coefficient\n",
    "    eta_p = 0.8 # efficiency of propeller\n",
    "    eta_m = 0.9 # efficiency of motor\n",
    "    AR = 3.23\n",
    "    e = .8\n",
    "    k = 1/(np.pi*AR*e)\n",
    "    V_stall = 2.25 # stall velocity in m/s\n",
    "    v_turn = 7  # velocity for turns\n",
    "    v_max = 7 # velocity for straightaways\n",
    "    s_to = 4 # takeoff length\n",
    "    s_l = 4 #landing length\n",
    "    CL_max = 1.45 # Cl for a cambered flat plate\n",
    "    h = 3 # cruise altitude in meters\n",
    "    roc_d = 10 # horizontal distance to get to altitude in meters\n",
    "    beta = 1 # weight fraction for landing is 1 since takeoff weight should be equal to landing weight\n",
    "    m = .3 #mass in kilograms \n",
    "    W = m*9.8 # weight in Newtons"
   ]
  },
  {
   "cell_type": "code",
   "execution_count": 182,
   "metadata": {},
   "outputs": [],
   "source": [
    "def create_functions():\n",
    "    \"\"\"\n",
    "    This function creates functions needed for the constraint analysis and returns\n",
    "    them as a dictionary\n",
    "    \"\"\"\n",
    "    \n",
    "    def T_W_to_P_W(T_W, v, eta_p, eta_m):\n",
    "        return v*T_W/(eta_p*eta_m)    \n",
    "    \n",
    "    def turn_P_W(W_S):\n",
    "        q = 0.5*rho*(v_turn**2)\n",
    "        n = 1.1547 # load factor\n",
    "        T_W_turn = q*Cd0/W_S + (n**2)*k*W_S/q\n",
    "        return T_W_to_P_W(T_W_turn, v_turn, eta_p, eta_m)\n",
    "\n",
    "    def takeoff_P_W(W_S):\n",
    "        v = V_stall*1.2 # takeoff velocity\n",
    "        T_W_to = (1.2**2)/(rho*g*s_to*CL_max)*W_S + 0.7*Cd0/CL_max + mu\n",
    "        return T_W_to_P_W(T_W_to, v, eta_p, eta_m)\n",
    "    \n",
    "    def maxspeed_P_W(W_S):\n",
    "        q = 0.5*rho*(v_max)**2\n",
    "        T_W_ms = q*Cd0/W_S + k*W_S/q\n",
    "        return T_W_to_P_W(T_W_ms, v_max, eta_p, eta_m)\n",
    "    \n",
    "    def landing_P_W(W_S):\n",
    "        v = V_stall*1.2 # landing velocity for low weight, low drag aircraft\n",
    "        return W_S - 10\n",
    "\n",
    "    def ceiling_P_W(W_S):\n",
    "        Cl_ceiling = (3*Cd0/k)**.5\n",
    "        v = (2*W_S/(rho*Cl_ceiling))\n",
    "        return v/ (.866*eta_p*eta_m*g)\n",
    "    \n",
    "    def roc_P_W(W_S):\n",
    "        Cl_roc = (3*Cd0/k)**.5\n",
    "        v_min_power = (2*W_S/(rho*Cl_roc))**.5\n",
    "        roc = .75\n",
    "        return (roc+ v_min_power/(.866*eta_p*eta_m*g))/(eta_p*eta_m)\n",
    "    \n",
    "    def turn_W_S(v):\n",
    "        return 1/2*rho*CL_max*v**2/ np.sqrt(1+(v**2/(r+g))**2)\n",
    "    \n",
    "    def landing_W_S(W_S):\n",
    "        return rho*g*mu*s_l*CL_max/(1.69*beta)*W_S/W_S\n",
    "    \n",
    "    def chord(W_S):\n",
    "        span = 1 # span in meters\n",
    "        return W/span/W_S \n",
    "    \n",
    "    return {\n",
    "        'turn_P_W': turn_P_W,\n",
    "        'takeoff_P_W': takeoff_P_W,\n",
    "        'maxspeed_P_W': maxspeed_P_W,\n",
    "        'landing_P_W': landing_P_W,\n",
    "        'ceiling_P_W': ceiling_P_W,\n",
    "        'roc_P_W': roc_P_W,\n",
    "        'turn_W_S': turn_W_S,\n",
    "        'landing_W_S': landing_W_S,\n",
    "        'chord': chord\n",
    "    }"
   ]
  },
  {
   "cell_type": "code",
   "execution_count": 183,
   "metadata": {},
   "outputs": [],
   "source": [
    "def solve(funcs):\n",
    "    \"\"\"\n",
    "    Takes a dictionary of functions and then solves the constraint analysis problem\n",
    "    \"\"\"\n",
    "    \n",
    "    # declare symbolic variables for the design vector we are solving for\n",
    "    W_S = ca.SX.sym('W_S') # wing loading, weight/(wing area)\n",
    "    P_W = ca.SX.sym('P_W') # power loading, power/weight\n",
    "    solver = ca.nlpsol(\n",
    "        'problem',  # name\n",
    "        'ipopt',  # solver\n",
    "        {  # problem details\n",
    "            'x': ca.vertcat(W_S, P_W),  # decision variables/ design vector\n",
    "            'f': P_W + .001 * W_S,  # objective function\n",
    "            'g': ca.vertcat(\n",
    "                P_W - funcs['turn_P_W'](W_S),  # we subtract from P_W here to make g=0 when constraint is satisfied\n",
    "                P_W - funcs['takeoff_P_W'](W_S),\n",
    "                P_W - funcs['maxspeed_P_W'](W_S),\n",
    "                P_W - funcs['landing_P_W'](W_S),\n",
    "                P_W - funcs['ceiling_P_W'](W_S),\n",
    "                P_W - funcs['roc_P_W'](W_S)\n",
    "            )\n",
    "        },\n",
    "        {  # solver options\n",
    "            'print_time': 0,\n",
    "            'ipopt': {\n",
    "                'sb': 'yes',\n",
    "                'print_level': 0,\n",
    "            }\n",
    "        }\n",
    "    )\n",
    "\n",
    "    # Solve the problem\n",
    "    res = solver(\n",
    "        x0=[0.5, 0.5], # initial guess for (W_S, P_W)\n",
    "        lbg=[0, 0, 0, 0, 0, 0],  # lower bound on constraints, 0, must meet power loading requirement\n",
    "        ubg=[ca.inf, ca.inf, ca.inf, ca.inf, ca.inf, ca.inf],  # upper bound on constraints, none, can have excess power loading, inf\n",
    "        lbx=[0, 0],  # lower bound on state, 0, cannot have negative wing loading, power loading\n",
    "        ubx=[ca.inf, ca.inf],  # upper bound on state, inf\n",
    "    )\n",
    "    stats = solver.stats()\n",
    "    \n",
    "    # If the solver failed, raise an exception\n",
    "    if not stats['success']:\n",
    "        raise RuntimeError(stats['return_status'])\n",
    "    return {\n",
    "        'W_S': float(res['x'][0]),\n",
    "        'P_W': float(res['x'][1]),\n",
    "    }"
   ]
  },
  {
   "cell_type": "code",
   "execution_count": 184,
   "metadata": {},
   "outputs": [
    {
     "data": {
      "image/png": "[encoded data removed]",
      "text/plain": [
       "<Figure size 1080x504 with 1 Axes>"
      ]
     },
     "metadata": {
      "needs_background": "light"
     },
     "output_type": "display_data"
    }
   ],
   "source": [
    "def constraint_analysis():\n",
    "    \"\"\"\n",
    "    The main function that creates functions, solves the optimization problem, and then plots the constraint\n",
    "    analysis diagram with the optimal design point labelled.\n",
    "    \"\"\"\n",
    "    funcs = create_functions()\n",
    "    opt_sol = solve(funcs)\n",
    "    W_S_val = np.arange(3, 15, 0.1)\n",
    "    plt.plot(W_S_val, funcs['turn_P_W'](W_S_val), label='turn')\n",
    "    plt.plot(W_S_val, funcs['takeoff_P_W'](W_S_val), label='takeoff')\n",
    "    plt.plot(W_S_val, funcs['maxspeed_P_W'](W_S_val), label='maxspeed')\n",
    "    plt.plot(funcs['landing_W_S'](W_S_val), funcs['landing_P_W'](W_S_val), label='landing')\n",
    "    plt.plot(W_S_val, funcs['ceiling_P_W'](W_S_val), label='ceiling')\n",
    "    plt.plot(W_S_val, funcs['roc_P_W'](W_S_val), label='roc')\n",
    "    \n",
    "    plt.plot(opt_sol['W_S'], opt_sol['P_W'], 'r.', markersize=20, label='design point')\n",
    "    plt.text(opt_sol['W_S'], opt_sol['P_W'] + 0.1, 'W_S: {W_S:0.2f}\\nP_W: {P_W:0.2f}'.format(**opt_sol))\n",
    "    plt.xlabel('Wing Loading, N/m^2')\n",
    "    plt.ylabel('Power to Weight Ratio, Watts/N')\n",
    "    plt.grid()\n",
    "    plt.legend()\n",
    "    plt.title('Constraint Analysis')\n",
    "    \n",
    "constraint_analysis()"
   ]
  },
  {
   "cell_type": "code",
   "execution_count": 186,
   "metadata": {},
   "outputs": [
    {
     "data": {
      "text/plain": [
       "Text(0.5, 1.0, 'Turn Analysis')"
      ]
     },
     "execution_count": 186,
     "metadata": {},
     "output_type": "execute_result"
    },
    {
     "data": {
      "image/png": "[encoded data removed]",
      "text/plain": [
       "<Figure size 1080x504 with 1 Axes>"
      ]
     },
     "metadata": {
      "needs_background": "light"
     },
     "output_type": "display_data"
    }
   ],
   "source": [
    "    funcs = create_functions()\n",
    "    v_val = np.arange(0, 40, 0.1)\n",
    "    solution= funcs['turn_W_S'](v_turn) \n",
    "    plt.plot(funcs['turn_W_S'](v_val), v_val, label='turn')\n",
    "    plt.xlabel('Wing Loading, N/m^2')\n",
    "    plt.ylabel('Velocity m/s')\n",
    "    plt.plot(funcs['turn_W_S'](v_turn), v_turn, 'r.', markersize=20, label='Current value')\n",
    "    plt.text(funcs['turn_W_S'](v_turn)+.1, v_turn + .1, 'W_S = %.2f' %solution)\n",
    "    plt.grid()\n",
    "    plt.legend()\n",
    "    plt.title('Turn Analysis')"
   ]
  },
  {
   "cell_type": "code",
   "execution_count": 187,
   "metadata": {},
   "outputs": [
    {
     "data": {
      "text/plain": [
       "Text(0.5, 1.0, 'Max Chord')"
      ]
     },
     "execution_count": 187,
     "metadata": {},
     "output_type": "execute_result"
    },
    {
     "data": {
      "image/png": "[encoded data removed]",
      "text/plain": [
       "<Figure size 1080x504 with 1 Axes>"
      ]
     },
     "metadata": {
      "needs_background": "light"
     },
     "output_type": "display_data"
    }
   ],
   "source": [
    "    funcs = create_functions()\n",
    "    opt_sol = solve(funcs)\n",
    "    W_S_val = np.arange(1, 40, 0.1)\n",
    "    solution= funcs['chord'](opt_sol['W_S']) \n",
    "    plt.plot(W_S_val, funcs['chord'](W_S_val), label='chord')\n",
    "    plt.xlabel('Wing Loading, N/m^2')\n",
    "    plt.ylabel('chord, m')\n",
    "    plt.plot(opt_sol['W_S'], funcs['chord'](opt_sol['W_S']), 'r.', markersize=20, label='Current value')\n",
    "    plt.text(opt_sol['W_S'] + .1, funcs['chord'](opt_sol['W_S'])+.1, 'chord = %.2f' %solution)\n",
    "    plt.grid()\n",
    "    plt.legend()\n",
    "    plt.title('Max Chord')"
   ]
  },
  {
   "cell_type": "markdown",
   "metadata": {},
   "source": [
    "# Minimum Velocity Calculations"
   ]
  },
  {
   "cell_type": "code",
   "execution_count": 192,
   "metadata": {},
   "outputs": [],
   "source": [
    "def min_vel():\n",
    "    \n",
    "    def turn_min_v(v):\n",
    "        q = 0.5*rho*(v**2) #dynamic pressure\n",
    "        L= CL_max*q*W/opt_sol['W_S'] #Lift\n",
    "        omega= m*v**2/r #angular force to get the turn design\n",
    "        return np.sqrt(L**2-omega**2)\n",
    "\n",
    "    def takeoff_min_v():\n",
    "        return 1.2*np.sqrt(2*opt_sol['W_S']/(rho*CL_max))\n",
    "    \n",
    "    def cruise_min_v(v):\n",
    "        q = 0.5*rho*(v)**2\n",
    "        L= CL_max*q*W/opt_sol['W_S'] #Lift\n",
    "        return L\n",
    "    \n",
    "    def landing_min_v():\n",
    "        return 1.2*np.sqrt(2*opt_sol['W_S']/(rho*CL_max))\n",
    "\n",
    "    def ceiling_min_v():\n",
    "        Cl_ceiling = (3*Cd0/k)**.5\n",
    "        return 2*opt_sol['W_S']/(rho*Cl_ceiling)\n",
    "    return {\n",
    "        'turn_min_v': turn_min_v,\n",
    "        'takeoff_min_v': takeoff_min_v,\n",
    "        'cruise_min_v': cruise_min_v,\n",
    "        'landing_min_v': landing_min_v,\n",
    "        'ceiling_min_v': ceiling_min_v,\n",
    "    }"
   ]
  },
  {
   "cell_type": "code",
   "execution_count": 193,
   "metadata": {},
   "outputs": [],
   "source": [
    "def V_min_turn(funcs):\n",
    "    \"\"\"\n",
    "    Takes a dictionary of functions and then solves the constraint analysis problem\n",
    "    \"\"\"\n",
    "    \n",
    "    # declare symbolic variables for the design vector we are solving for\n",
    "    v = ca.SX.sym('v') # Velocity meters/seconds\n",
    "    f = ca.SX.sym('f') # Force Newtons\n",
    "    solver = ca.nlpsol(\n",
    "        'problem',  # name\n",
    "        'ipopt',  # solver\n",
    "        {  # problem details\n",
    "            'x': ca.vertcat(v, f),  # decision variables/ design vector\n",
    "            'f': v,  # objective function\n",
    "            'g': ca.vertcat(\n",
    "                f - funcs['turn_min_v'](v),  # we subtract from P_W here to make g=0 when constraint is satisfied\n",
    "            )\n",
    "        },\n",
    "        {  # solver options\n",
    "            'print_time': 0,\n",
    "            'ipopt': {\n",
    "                'sb': 'yes',\n",
    "                'print_level': 0,\n",
    "            }\n",
    "        }\n",
    "    )\n",
    "\n",
    "    # Solve the problem\n",
    "    res = solver(\n",
    "        x0=[0.5, 0.5], # initial guess for (v, f)\n",
    "        lbg=[0],  # lower bound on constraints, 0, velocity must be positive\n",
    "        ubg=[0],  # upper bound on constraints, none, can have excess velocity, inf\n",
    "        lbx=[0, W],  # lower bound on state, 0, cannot have negative wing loading, power loading\n",
    "        ubx=[ca.inf, W],  # upper bound on state, inf\n",
    "    )\n",
    "    stats = solver.stats()\n",
    "    \n",
    "    # If the solver failed, raise an exception\n",
    "    if not stats['success']:\n",
    "        raise RuntimeError(stats['return_status'])\n",
    "    return {\n",
    "        'v': float(res['x'][0]),\n",
    "        'f': float(res['x'][1]),\n",
    "    }"
   ]
  },
  {
   "cell_type": "code",
   "execution_count": 194,
   "metadata": {},
   "outputs": [],
   "source": [
    "def V_min_cruise(funcs):\n",
    "    \"\"\"\n",
    "    Takes a dictionary of functions and then solves the constraint analysis problem\n",
    "    \"\"\"\n",
    "    \n",
    "    # declare symbolic variables for the design vector we are solving for\n",
    "    v = ca.SX.sym('v') # Velocity meters/seconds\n",
    "    f = ca.SX.sym('f') # Force Newtons\n",
    "    solver = ca.nlpsol(\n",
    "        'problem',  # name\n",
    "        'ipopt',  # solver\n",
    "        {  # problem details\n",
    "            'x': ca.vertcat(v, f),  # decision variables/ design vector\n",
    "            'f': v,  # objective function\n",
    "            'g': ca.vertcat(\n",
    "                f - funcs['cruise_min_v'](v),  # we subtract from P_W here to make g=0 when constraint is satisfied\n",
    "            )\n",
    "        },\n",
    "        {  # solver options\n",
    "            'print_time': 0,\n",
    "            'ipopt': {\n",
    "                'sb': 'yes',\n",
    "                'print_level': 0,\n",
    "            }\n",
    "        }\n",
    "    )\n",
    "\n",
    "    # Solve the problem\n",
    "    res = solver(\n",
    "        x0=[0.5, 0.5], # initial guess for (v, f)\n",
    "        lbg=[0],  # lower bound on constraints, 0, velocity must be positive\n",
    "        ubg=[0],  # upper bound on constraints, none, can have excess velocity, inf\n",
    "        lbx=[0, W],  # lower bound on state, 0, cannot have negative wing loading, power loading\n",
    "        ubx=[ca.inf, W],  # upper bound on state, inf\n",
    "    )\n",
    "    stats = solver.stats()\n",
    "    \n",
    "    # If the solver failed, raise an exception\n",
    "    if not stats['success']:\n",
    "        raise RuntimeError(stats['return_status'])\n",
    "    return {\n",
    "        'v': float(res['x'][0]),\n",
    "        'f': float(res['x'][1]),\n",
    "    }"
   ]
  },
  {
   "cell_type": "code",
   "execution_count": 195,
   "metadata": {},
   "outputs": [
    {
     "data": {
      "text/html": [
       "<div>\n",
       "<style scoped>\n",
       "    .dataframe tbody tr th:only-of-type {\n",
       "        vertical-align: middle;\n",
       "    }\n",
       "\n",
       "    .dataframe tbody tr th {\n",
       "        vertical-align: top;\n",
       "    }\n",
       "\n",
       "    .dataframe thead th {\n",
       "        text-align: right;\n",
       "    }\n",
       "</style>\n",
       "<table border=\"1\" class=\"dataframe\">\n",
       "  <thead>\n",
       "    <tr style=\"text-align: right;\">\n",
       "      <th></th>\n",
       "      <th>Segment of Flight</th>\n",
       "      <th>Minimum Velocity m/s</th>\n",
       "    </tr>\n",
       "  </thead>\n",
       "  <tbody>\n",
       "    <tr>\n",
       "      <th>0</th>\n",
       "      <td>turn</td>\n",
       "      <td>3.193208</td>\n",
       "    </tr>\n",
       "    <tr>\n",
       "      <th>1</th>\n",
       "      <td>cruise</td>\n",
       "      <td>3.007608</td>\n",
       "    </tr>\n",
       "    <tr>\n",
       "      <th>2</th>\n",
       "      <td>ceiling</td>\n",
       "      <td>10.850585</td>\n",
       "    </tr>\n",
       "    <tr>\n",
       "      <th>3</th>\n",
       "      <td>takeoff</td>\n",
       "      <td>3.609130</td>\n",
       "    </tr>\n",
       "    <tr>\n",
       "      <th>4</th>\n",
       "      <td>landing</td>\n",
       "      <td>3.609130</td>\n",
       "    </tr>\n",
       "  </tbody>\n",
       "</table>\n",
       "</div>"
      ],
      "text/plain": [
       "  Segment of Flight  Minimum Velocity m/s\n",
       "0              turn              3.193208\n",
       "1            cruise              3.007608\n",
       "2           ceiling             10.850585\n",
       "3           takeoff              3.609130\n",
       "4           landing              3.609130"
      ]
     },
     "execution_count": 195,
     "metadata": {},
     "output_type": "execute_result"
    }
   ],
   "source": [
    "funcs = min_vel()\n",
    "turn_sol = V_min_turn(funcs)\n",
    "cruise_sol = V_min_cruise(funcs)\n",
    "ceiling_sol = funcs['ceiling_min_v']()\n",
    "takeoff_sol = funcs['takeoff_min_v']()\n",
    "landing_sol = funcs['landing_min_v']()\n",
    "data = [['turn', turn_sol['v']], ['cruise', cruise_sol['v']],\n",
    "        ['ceiling', ceiling_sol],['takeoff', takeoff_sol],\n",
    "        ['landing', landing_sol]]\n",
    "pd.DataFrame(data, columns=[\"Segment of Flight\", \"Minimum Velocity m/s\"])\n",
    "    "
   ]
  },
  {
   "cell_type": "markdown",
   "metadata": {},
   "source": [
    "# Minimum Thrust Required"
   ]
  },
  {
   "cell_type": "code",
   "execution_count": 200,
   "metadata": {},
   "outputs": [
    {
     "data": {
      "text/plain": [
       "2.84176528337131"
      ]
     },
     "execution_count": 200,
     "metadata": {},
     "output_type": "execute_result"
    }
   ],
   "source": [
    "L = CL_max * 0.5 * rho * (v_max**2) *W / opt_sol['W_S'] #Lift\n",
    "D = .5 * rho * v_max**2 * Cd0 + L**2 / (.5 * rho * v_max**2 * np.pi * AR * e)\n",
    "T_min = D\n",
    "T_min"
   ]
  },
  {
   "cell_type": "code",
   "execution_count": null,
   "metadata": {},
   "outputs": [],
   "source": []
  }
 ],
 "metadata": {
  "kernelspec": {
   "display_name": "Python 3",
   "language": "python",
   "name": "python3"
  },
  "language_info": {
   "codemirror_mode": {
    "name": "ipython",
    "version": 3
   },
   "file_extension": ".py",
   "mimetype": "text/x-python",
   "name": "python",
   "nbconvert_exporter": "python",
   "pygments_lexer": "ipython3",
   "version": "3.7.6"
  }
 },
 "nbformat": 4,
 "nbformat_minor": 4
}
